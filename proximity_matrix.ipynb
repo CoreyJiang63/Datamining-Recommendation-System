{
 "cells": [
  {
   "cell_type": "code",
   "execution_count": 1,
   "metadata": {},
   "outputs": [
    {
     "name": "stderr",
     "output_type": "stream",
     "text": [
      "c:\\Users\\jyc02\\anaconda3\\envs\\project\\lib\\site-packages\\lightfm\\_lightfm_fast.py:10: UserWarning: LightFM was compiled without OpenMP support. Only a single thread will be used.\n",
      "  \"LightFM was compiled without OpenMP support. \"\n"
     ]
    }
   ],
   "source": [
    "import pandas as pd\n",
    "import numpy as np\n",
    "from scipy.sparse import csr_matrix\n",
    "from lightfm import LightFM\n",
    "from lightfm.evaluation import auc_score, precision_at_k\n",
    "\n",
    "data = pd.read_csv('preprocessed.csv')\n",
    "sample_size = 100000\n",
    "if len(data) > sample_size:\n",
    "    data = data.sample(n=sample_size, random_state=42)\n",
    "\n",
    "unique_users = data['customer_id'].unique()\n",
    "unique_items = data['product_id'].unique()\n",
    "user_map = {id: idx for idx, id in enumerate(unique_users)}\n",
    "item_map = {id: idx for idx, id in enumerate(unique_items)}\n",
    "data['user_idx'] = data['customer_id'].apply(lambda x: user_map[x])\n",
    "data['item_idx'] = data['product_id'].apply(lambda x: item_map[x])\n",
    "\n",
    "num_users = len(unique_users)\n",
    "num_items = len(unique_items)\n",
    "row = data['user_idx']\n",
    "col = data['item_idx']\n",
    "rating = data['star_rating']\n",
    "input_matrix = csr_matrix((rating, (row, col)), shape=(num_users, num_items))"
   ]
  },
  {
   "cell_type": "code",
   "execution_count": 2,
   "metadata": {},
   "outputs": [
    {
     "data": {
      "text/plain": [
       "<94299x39597 sparse matrix of type '<class 'numpy.int64'>'\n",
       "\twith 99986 stored elements in Compressed Sparse Row format>"
      ]
     },
     "execution_count": 2,
     "metadata": {},
     "output_type": "execute_result"
    }
   ],
   "source": [
    "input_matrix"
   ]
  },
  {
   "cell_type": "code",
   "execution_count": 3,
   "metadata": {},
   "outputs": [],
   "source": [
    "model = LightFM(loss='warp', learning_rate=0.05, no_components=32, random_state=42)"
   ]
  },
  {
   "cell_type": "code",
   "execution_count": 4,
   "metadata": {},
   "outputs": [
    {
     "name": "stdout",
     "output_type": "stream",
     "text": [
      "Epoch 0\n",
      "Epoch 1/10: train AUC = 0.7243, precision at k = 0.0037\n",
      "Epoch 0\n",
      "Epoch 2/10: train AUC = 0.7238, precision at k = 0.0039\n",
      "Epoch 0\n",
      "Epoch 3/10: train AUC = 0.7239, precision at k = 0.0036\n",
      "Epoch 0\n",
      "Epoch 4/10: train AUC = 0.7232, precision at k = 0.0036\n",
      "Epoch 0\n",
      "Epoch 5/10: train AUC = 0.7245, precision at k = 0.0040\n",
      "Epoch 0\n",
      "Epoch 6/10: train AUC = 0.7224, precision at k = 0.0038\n",
      "Epoch 0\n",
      "Epoch 7/10: train AUC = 0.7225, precision at k = 0.0035\n",
      "Epoch 0\n",
      "Epoch 8/10: train AUC = 0.7241, precision at k = 0.0037\n",
      "Epoch 0\n",
      "Epoch 9/10: train AUC = 0.7264, precision at k = 0.0036\n",
      "Epoch 0\n",
      "Epoch 10/10: train AUC = 0.7238, precision at k = 0.0034\n"
     ]
    }
   ],
   "source": [
    "num_epochs = 10\n",
    "num_users, num_items = input_matrix.shape\n",
    "\n",
    "for epoch in range(num_epochs):\n",
    "    model.fit(input_matrix, epochs=1, verbose=True)\n",
    "    train_auc = auc_score(model, input_matrix).mean()\n",
    "    train_precision = precision_at_k(model, input_matrix, k=5).mean()\n",
    "\n",
    "    print(\"Epoch {}/{}: train AUC = {:.4f}, precision at k = {:.4f}\".format(epoch+1, num_epochs, train_auc, train_precision))"
   ]
  },
  {
   "cell_type": "code",
   "execution_count": 8,
   "metadata": {},
   "outputs": [
    {
     "name": "stdout",
     "output_type": "stream",
     "text": [
      "Top 5 recommendations for user 15: [ 155  139  234 1072   96]\n"
     ]
    }
   ],
   "source": [
    "user_id = 15\n",
    "scores = model.predict(user_ids=user_id, item_ids=np.arange(num_items))\n",
    "\n",
    "top_items = np.argsort(-scores)[:5]\n",
    "print(\"Top 5 recommendations for user {}: {}\".format(user_id, top_items))\n",
    "\n",
    "# print(\"Train precision: {:.2f}\".format(train_precision))"
   ]
  }
 ],
 "metadata": {
  "kernelspec": {
   "display_name": "base",
   "language": "python",
   "name": "python3"
  },
  "language_info": {
   "codemirror_mode": {
    "name": "ipython",
    "version": 3
   },
   "file_extension": ".py",
   "mimetype": "text/x-python",
   "name": "python",
   "nbconvert_exporter": "python",
   "pygments_lexer": "ipython3",
   "version": "3.7.16"
  },
  "orig_nbformat": 4
 },
 "nbformat": 4,
 "nbformat_minor": 2
}
