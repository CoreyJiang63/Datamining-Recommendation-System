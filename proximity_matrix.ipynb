{
 "cells": [
  {
   "cell_type": "code",
   "execution_count": 2,
   "metadata": {},
   "outputs": [],
   "source": [
    "import pandas as pd\n",
    "import numpy as np\n",
    "from scipy.sparse import csr_matrix\n",
    "from lightfm import LightFM\n",
    "\n",
    "data = pd.read_csv('preprocessed.csv')\n",
    "sample_size = 20000\n",
    "if len(data) > sample_size:\n",
    "    data = data.sample(n=sample_size, random_state=42)\n",
    "\n",
    "unique_users = data['customer_id'].unique()\n",
    "unique_items = data['product_id'].unique()\n",
    "user_map = {id: idx for idx, id in enumerate(unique_users)}\n",
    "item_map = {id: idx for idx, id in enumerate(unique_items)}\n",
    "data['user_idx'] = data['customer_id'].apply(lambda x: user_map[x])\n",
    "data['item_idx'] = data['product_id'].apply(lambda x: item_map[x])\n",
    "\n",
    "num_users = len(unique_users)\n",
    "num_items = len(unique_items)\n",
    "row = data['user_idx']\n",
    "col = data['item_idx']\n",
    "rating = data['star_rating']\n",
    "input_matrix = csr_matrix((rating, (row, col)), shape=(num_users, num_items))"
   ]
  },
  {
   "cell_type": "code",
   "execution_count": 3,
   "metadata": {},
   "outputs": [
    {
     "data": {
      "text/plain": [
       "<19705x12427 sparse matrix of type '<class 'numpy.int64'>'\n",
       "\twith 19997 stored elements in Compressed Sparse Row format>"
      ]
     },
     "execution_count": 3,
     "metadata": {},
     "output_type": "execute_result"
    }
   ],
   "source": [
    "input_matrix"
   ]
  },
  {
   "cell_type": "code",
   "execution_count": 4,
   "metadata": {},
   "outputs": [
    {
     "ename": "",
     "evalue": "",
     "output_type": "error",
     "traceback": [
      "\u001b[1;31mCanceled future for execute_request message before replies were done"
     ]
    },
    {
     "ename": "",
     "evalue": "",
     "output_type": "error",
     "traceback": [
      "\u001b[1;31m在当前单元格或上一个单元格中执行代码时 Kernel 崩溃。请查看单元格中的代码，以确定故障的可能原因。有关详细信息，请单击 <a href='https://aka.ms/vscodeJupyterKernelCrash'>此处</a>。有关更多详细信息，请查看 Jupyter <a href='command:jupyter.viewOutput'>log</a>。"
     ]
    }
   ],
   "source": [
    "model = LightFM(loss='warp')\n",
    "batch_size = 1000\n",
    "num_epochs = 10\n",
    "\n",
    "num_samples = input_matrix.shape[0]\n",
    "for epoch in range(num_epochs):\n",
    "    idx = np.random.permutation(num_samples)\n",
    "    input_matrix_shuffled = input_matrix[idx, :]\n",
    "    \n",
    "    for i in range(0, num_samples, batch_size):\n",
    "        batch = input_matrix_shuffled[i:i+batch_size, :]\n",
    "        model.fit_partial(batch, epochs=1)\n",
    "        \n",
    "    train_auc = auc_score(model, input_matrix).mean()\n",
    "    print(\"Epoch {}/{}: train AUC = {:.4f}\".format(epoch+1, num_epochs, train_auc))"
   ]
  }
 ],
 "metadata": {
  "kernelspec": {
   "display_name": "base",
   "language": "python",
   "name": "python3"
  },
  "language_info": {
   "codemirror_mode": {
    "name": "ipython",
    "version": 3
   },
   "file_extension": ".py",
   "mimetype": "text/x-python",
   "name": "python",
   "nbconvert_exporter": "python",
   "pygments_lexer": "ipython3",
   "version": "3.10.9"
  },
  "orig_nbformat": 4
 },
 "nbformat": 4,
 "nbformat_minor": 2
}
