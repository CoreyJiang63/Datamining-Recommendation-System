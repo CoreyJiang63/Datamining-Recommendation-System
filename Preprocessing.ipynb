{
 "cells": [
  {
   "attachments": {},
   "cell_type": "markdown",
   "metadata": {},
   "source": [
    "## Data Preprocessing\n",
    "### Data Loading"
   ]
  },
  {
   "cell_type": "code",
   "execution_count": 1,
   "metadata": {},
   "outputs": [
    {
     "name": "stderr",
     "output_type": "stream",
     "text": [
      "C:\\Users\\Public\\Documents\\Wondershare\\CreatorTemp\\ipykernel_16532\\1741916537.py:8: FutureWarning: The error_bad_lines argument has been deprecated and will be removed in a future version. Use on_bad_lines in the future.\n",
      "\n",
      "\n",
      "  reviews = pd.read_csv(\n",
      "C:\\Users\\Public\\Documents\\Wondershare\\CreatorTemp\\ipykernel_16532\\1741916537.py:8: FutureWarning: The warn_bad_lines argument has been deprecated and will be removed in a future version. Use on_bad_lines in the future.\n",
      "\n",
      "\n",
      "  reviews = pd.read_csv(\n"
     ]
    },
    {
     "data": {
      "text/html": [
       "<div>\n",
       "<style scoped>\n",
       "    .dataframe tbody tr th:only-of-type {\n",
       "        vertical-align: middle;\n",
       "    }\n",
       "\n",
       "    .dataframe tbody tr th {\n",
       "        vertical-align: top;\n",
       "    }\n",
       "\n",
       "    .dataframe thead th {\n",
       "        text-align: right;\n",
       "    }\n",
       "</style>\n",
       "<table border=\"1\" class=\"dataframe\">\n",
       "  <thead>\n",
       "    <tr style=\"text-align: right;\">\n",
       "      <th></th>\n",
       "      <th>marketplace</th>\n",
       "      <th>customer_id</th>\n",
       "      <th>review_id</th>\n",
       "      <th>product_id</th>\n",
       "      <th>product_parent</th>\n",
       "      <th>product_title</th>\n",
       "      <th>product_category</th>\n",
       "      <th>star_rating</th>\n",
       "      <th>helpful_votes</th>\n",
       "      <th>total_votes</th>\n",
       "      <th>vine</th>\n",
       "      <th>verified_purchase</th>\n",
       "      <th>review_headline</th>\n",
       "      <th>review_body</th>\n",
       "      <th>review_date</th>\n",
       "    </tr>\n",
       "  </thead>\n",
       "  <tbody>\n",
       "    <tr>\n",
       "      <th>0</th>\n",
       "      <td>US</td>\n",
       "      <td>3653882</td>\n",
       "      <td>R3O9SGZBVQBV76</td>\n",
       "      <td>B00FALQ1ZC</td>\n",
       "      <td>937001370</td>\n",
       "      <td>Invicta Women's 15150 \"Angel\" 18k Yellow Gold ...</td>\n",
       "      <td>Watches</td>\n",
       "      <td>5</td>\n",
       "      <td>0</td>\n",
       "      <td>0</td>\n",
       "      <td>N</td>\n",
       "      <td>Y</td>\n",
       "      <td>Five Stars</td>\n",
       "      <td>Absolutely love this watch! Get compliments al...</td>\n",
       "      <td>2015-08-31</td>\n",
       "    </tr>\n",
       "    <tr>\n",
       "      <th>1</th>\n",
       "      <td>US</td>\n",
       "      <td>14661224</td>\n",
       "      <td>RKH8BNC3L5DLF</td>\n",
       "      <td>B00D3RGO20</td>\n",
       "      <td>484010722</td>\n",
       "      <td>Kenneth Cole New York Women's KC4944 Automatic...</td>\n",
       "      <td>Watches</td>\n",
       "      <td>5</td>\n",
       "      <td>0</td>\n",
       "      <td>0</td>\n",
       "      <td>N</td>\n",
       "      <td>Y</td>\n",
       "      <td>I love thiswatch it keeps time wonderfully</td>\n",
       "      <td>I love this watch it keeps time wonderfully.</td>\n",
       "      <td>2015-08-31</td>\n",
       "    </tr>\n",
       "    <tr>\n",
       "      <th>2</th>\n",
       "      <td>US</td>\n",
       "      <td>27324930</td>\n",
       "      <td>R2HLE8WKZSU3NL</td>\n",
       "      <td>B00DKYC7TK</td>\n",
       "      <td>361166390</td>\n",
       "      <td>Ritche 22mm Black Stainless Steel Bracelet Wat...</td>\n",
       "      <td>Watches</td>\n",
       "      <td>2</td>\n",
       "      <td>1</td>\n",
       "      <td>1</td>\n",
       "      <td>N</td>\n",
       "      <td>Y</td>\n",
       "      <td>Two Stars</td>\n",
       "      <td>Scratches</td>\n",
       "      <td>2015-08-31</td>\n",
       "    </tr>\n",
       "  </tbody>\n",
       "</table>\n",
       "</div>"
      ],
      "text/plain": [
       "  marketplace  customer_id       review_id  product_id  product_parent  \\\n",
       "0          US      3653882  R3O9SGZBVQBV76  B00FALQ1ZC       937001370   \n",
       "1          US     14661224   RKH8BNC3L5DLF  B00D3RGO20       484010722   \n",
       "2          US     27324930  R2HLE8WKZSU3NL  B00DKYC7TK       361166390   \n",
       "\n",
       "                                       product_title product_category  \\\n",
       "0  Invicta Women's 15150 \"Angel\" 18k Yellow Gold ...          Watches   \n",
       "1  Kenneth Cole New York Women's KC4944 Automatic...          Watches   \n",
       "2  Ritche 22mm Black Stainless Steel Bracelet Wat...          Watches   \n",
       "\n",
       "   star_rating  helpful_votes  total_votes vine verified_purchase  \\\n",
       "0            5              0            0    N                 Y   \n",
       "1            5              0            0    N                 Y   \n",
       "2            2              1            1    N                 Y   \n",
       "\n",
       "                              review_headline  \\\n",
       "0                                  Five Stars   \n",
       "1  I love thiswatch it keeps time wonderfully   \n",
       "2                                   Two Stars   \n",
       "\n",
       "                                         review_body review_date  \n",
       "0  Absolutely love this watch! Get compliments al...  2015-08-31  \n",
       "1       I love this watch it keeps time wonderfully.  2015-08-31  \n",
       "2                                          Scratches  2015-08-31  "
      ]
     },
     "execution_count": 1,
     "metadata": {},
     "output_type": "execute_result"
    }
   ],
   "source": [
    "import pandas as pd\n",
    "import numpy as np\n",
    "from IPython.core.interactiveshell import InteractiveShell\n",
    "\n",
    "InteractiveShell.ast_node_interactivity = \"all\"\n",
    "\n",
    "reviews = pd.read_csv(\n",
    "    'dataset\\Watches.tsv',\n",
    "    sep='\\t',\n",
    "    error_bad_lines=False,\n",
    "    warn_bad_lines=False)\n",
    "reviews.head(3)"
   ]
  },
  {
   "attachments": {},
   "cell_type": "markdown",
   "metadata": {},
   "source": [
    "Theres are 15 columns in the data. Amazon details what each columns containes, which I've included below:\n",
    "\n",
    "- marketplace - 2 letter country code of the marketplace where the review was written.\n",
    "- customer_id - Random identifier that can be used to aggregate reviews written by a single author.\n",
    "- review_id - The unique ID of the review.\n",
    "- product_id - The unique Product ID the review pertains to. In the multilingual dataset the reviews for the same product in different countries can be grouped by the same product_id.\n",
    "- product_parent - Random identifier that can be used to aggregate reviews for the same product.\n",
    "- product_title - Title of the product.\n",
    "- product_category - Broad product category that can be used to group reviews (also used to group the dataset into coherent parts).\n",
    "- star_rating - The 1-5 star rating of the review.\n",
    "- helpful_votes - Number of helpful votes.\n",
    "- total_votes - Number of total votes the review received.\n",
    "- vine - Review was written as part of the Vine program.\n",
    "- verified_purchase - The review is on a verified purchase.\n",
    "- review_headline - The title of the review.\n",
    "- review_body - The review text.\n",
    "- review_date - The date the review was written."
   ]
  },
  {
   "cell_type": "code",
   "execution_count": 2,
   "metadata": {},
   "outputs": [
    {
     "name": "stdout",
     "output_type": "stream",
     "text": [
      "<class 'pandas.core.frame.DataFrame'>\n",
      "RangeIndex: 960204 entries, 0 to 960203\n",
      "Data columns (total 15 columns):\n",
      " #   Column             Non-Null Count   Dtype \n",
      "---  ------             --------------   ----- \n",
      " 0   marketplace        960204 non-null  object\n",
      " 1   customer_id        960204 non-null  int64 \n",
      " 2   review_id          960204 non-null  object\n",
      " 3   product_id         960204 non-null  object\n",
      " 4   product_parent     960204 non-null  int64 \n",
      " 5   product_title      960202 non-null  object\n",
      " 6   product_category   960204 non-null  object\n",
      " 7   star_rating        960204 non-null  int64 \n",
      " 8   helpful_votes      960204 non-null  int64 \n",
      " 9   total_votes        960204 non-null  int64 \n",
      " 10  vine               960204 non-null  object\n",
      " 11  verified_purchase  960204 non-null  object\n",
      " 12  review_headline    960197 non-null  object\n",
      " 13  review_body        960056 non-null  object\n",
      " 14  review_date        960200 non-null  object\n",
      "dtypes: int64(5), object(10)\n",
      "memory usage: 109.9+ MB\n"
     ]
    }
   ],
   "source": [
    "reviews.info()"
   ]
  },
  {
   "attachments": {},
   "cell_type": "markdown",
   "metadata": {},
   "source": [
    "### Removing Duplicates\n",
    "\n",
    "With our first glimpse, the data provided by AWS is quite clean. Now we need to consider these problems:\n",
    "- Whether there exists duplicated data\n",
    "- Whether there exists NAs, causing missing-value problem\n",
    "\n",
    "We could observe from above that null data do exist. However, the NA part is all contained in the concrete customer review contents, which would not be a problem for our analysis, as our main target in the later stage would be forming the embeddings for items and users. So the only assignment would be processing the duplicated data."
   ]
  },
  {
   "cell_type": "code",
   "execution_count": 3,
   "metadata": {},
   "outputs": [
    {
     "data": {
      "text/plain": [
       "0"
      ]
     },
     "execution_count": 3,
     "metadata": {},
     "output_type": "execute_result"
    }
   ],
   "source": [
    "sum(reviews.review_id.duplicated())"
   ]
  },
  {
   "attachments": {},
   "cell_type": "markdown",
   "metadata": {},
   "source": [
    "The `review_id` has no duplicated items. However, we could not guarantee that there aren't any duplicated reviews. Here we assume that if a customer sends more than one review on one single commodity, we view it as duplicated data in the dataset. \n",
    "\n",
    "This does not mean that one cannot post multiple reviews on one product (follow-up reviews are indeed quite common), we do this for the simplicity of our analysis and the formation of the embeddings; meanwhile, this could compress the scarcity for our future matrices.\n",
    "\n",
    "Hence, if `customer_id` and `product_id` show up more than once, it's a duplicated review."
   ]
  },
  {
   "cell_type": "code",
   "execution_count": 4,
   "metadata": {},
   "outputs": [
    {
     "data": {
      "text/html": [
       "<div>\n",
       "<style scoped>\n",
       "    .dataframe tbody tr th:only-of-type {\n",
       "        vertical-align: middle;\n",
       "    }\n",
       "\n",
       "    .dataframe tbody tr th {\n",
       "        vertical-align: top;\n",
       "    }\n",
       "\n",
       "    .dataframe thead th {\n",
       "        text-align: right;\n",
       "    }\n",
       "</style>\n",
       "<table border=\"1\" class=\"dataframe\">\n",
       "  <thead>\n",
       "    <tr style=\"text-align: right;\">\n",
       "      <th></th>\n",
       "      <th>marketplace</th>\n",
       "      <th>customer_id</th>\n",
       "      <th>review_id</th>\n",
       "      <th>product_id</th>\n",
       "      <th>product_parent</th>\n",
       "      <th>product_title</th>\n",
       "      <th>product_category</th>\n",
       "      <th>star_rating</th>\n",
       "      <th>helpful_votes</th>\n",
       "      <th>total_votes</th>\n",
       "      <th>vine</th>\n",
       "      <th>verified_purchase</th>\n",
       "      <th>review_headline</th>\n",
       "      <th>review_body</th>\n",
       "      <th>review_date</th>\n",
       "    </tr>\n",
       "  </thead>\n",
       "  <tbody>\n",
       "    <tr>\n",
       "      <th>180410</th>\n",
       "      <td>US</td>\n",
       "      <td>685318</td>\n",
       "      <td>R1J1TVEYBP3A7M</td>\n",
       "      <td>B003QG1SO2</td>\n",
       "      <td>47470030</td>\n",
       "      <td>Timex Men's Easy Reader Date Leather Strap Watch</td>\n",
       "      <td>Watches</td>\n",
       "      <td>3</td>\n",
       "      <td>0</td>\n",
       "      <td>1</td>\n",
       "      <td>N</td>\n",
       "      <td>Y</td>\n",
       "      <td>Three Stars</td>\n",
       "      <td>it's ok, but there's one part below the the nu...</td>\n",
       "      <td>2015-03-10</td>\n",
       "    </tr>\n",
       "    <tr>\n",
       "      <th>227516</th>\n",
       "      <td>US</td>\n",
       "      <td>685318</td>\n",
       "      <td>R1DJUOOB0RFMRP</td>\n",
       "      <td>B003QG1SO2</td>\n",
       "      <td>47470030</td>\n",
       "      <td>Timex Men's Easy Reader Date Leather Strap Watch</td>\n",
       "      <td>Watches</td>\n",
       "      <td>4</td>\n",
       "      <td>0</td>\n",
       "      <td>0</td>\n",
       "      <td>N</td>\n",
       "      <td>Y</td>\n",
       "      <td>Four Stars</td>\n",
       "      <td>it's nice.</td>\n",
       "      <td>2015-02-01</td>\n",
       "    </tr>\n",
       "    <tr>\n",
       "      <th>45889</th>\n",
       "      <td>US</td>\n",
       "      <td>817344</td>\n",
       "      <td>R3R845UJQPL7DP</td>\n",
       "      <td>B004VW55NA</td>\n",
       "      <td>921527551</td>\n",
       "      <td>Women Geneva Rhinestone Leather Band Quartz Wr...</td>\n",
       "      <td>Watches</td>\n",
       "      <td>3</td>\n",
       "      <td>0</td>\n",
       "      <td>0</td>\n",
       "      <td>N</td>\n",
       "      <td>Y</td>\n",
       "      <td>Three Stars</td>\n",
       "      <td>nice &amp; shiny</td>\n",
       "      <td>2015-07-20</td>\n",
       "    </tr>\n",
       "    <tr>\n",
       "      <th>46029</th>\n",
       "      <td>US</td>\n",
       "      <td>817344</td>\n",
       "      <td>R39DJJ1LM1K14N</td>\n",
       "      <td>B004VW55NA</td>\n",
       "      <td>921527551</td>\n",
       "      <td>Women Geneva Rhinestone Leather Band Quartz Wr...</td>\n",
       "      <td>Watches</td>\n",
       "      <td>3</td>\n",
       "      <td>0</td>\n",
       "      <td>0</td>\n",
       "      <td>N</td>\n",
       "      <td>Y</td>\n",
       "      <td>Three Stars</td>\n",
       "      <td>Nice</td>\n",
       "      <td>2015-07-20</td>\n",
       "    </tr>\n",
       "  </tbody>\n",
       "</table>\n",
       "</div>"
      ],
      "text/plain": [
       "       marketplace  customer_id       review_id  product_id  product_parent  \\\n",
       "180410          US       685318  R1J1TVEYBP3A7M  B003QG1SO2        47470030   \n",
       "227516          US       685318  R1DJUOOB0RFMRP  B003QG1SO2        47470030   \n",
       "45889           US       817344  R3R845UJQPL7DP  B004VW55NA       921527551   \n",
       "46029           US       817344  R39DJJ1LM1K14N  B004VW55NA       921527551   \n",
       "\n",
       "                                            product_title product_category  \\\n",
       "180410   Timex Men's Easy Reader Date Leather Strap Watch          Watches   \n",
       "227516   Timex Men's Easy Reader Date Leather Strap Watch          Watches   \n",
       "45889   Women Geneva Rhinestone Leather Band Quartz Wr...          Watches   \n",
       "46029   Women Geneva Rhinestone Leather Band Quartz Wr...          Watches   \n",
       "\n",
       "        star_rating  helpful_votes  total_votes vine verified_purchase  \\\n",
       "180410            3              0            1    N                 Y   \n",
       "227516            4              0            0    N                 Y   \n",
       "45889             3              0            0    N                 Y   \n",
       "46029             3              0            0    N                 Y   \n",
       "\n",
       "       review_headline                                        review_body  \\\n",
       "180410     Three Stars  it's ok, but there's one part below the the nu...   \n",
       "227516      Four Stars                                         it's nice.   \n",
       "45889      Three Stars                                       nice & shiny   \n",
       "46029      Three Stars                                               Nice   \n",
       "\n",
       "       review_date  \n",
       "180410  2015-03-10  \n",
       "227516  2015-02-01  \n",
       "45889   2015-07-20  \n",
       "46029   2015-07-20  "
      ]
     },
     "execution_count": 4,
     "metadata": {},
     "output_type": "execute_result"
    }
   ],
   "source": [
    "purchase_ids = ['customer_id', 'product_id']\n",
    "\n",
    "duplicates = reviews[reviews.duplicated(subset=purchase_ids, keep=False)].sort_values(purchase_ids)\n",
    "duplicates.head(4)"
   ]
  },
  {
   "attachments": {},
   "cell_type": "markdown",
   "metadata": {},
   "source": [
    "So there are some reviews that are basically the same, but some people have updated their review by submitting a new one, which could be considered as the follow-up updates discussed above. It would make sense if I keep the most recent review here."
   ]
  },
  {
   "cell_type": "code",
   "execution_count": 5,
   "metadata": {},
   "outputs": [],
   "source": [
    "reviews = (reviews.sort_values(['customer_id', 'product_id', 'review_date'], ascending=[False, False, True])\n",
    "        .drop_duplicates(subset=purchase_ids, keep='last'))"
   ]
  },
  {
   "attachments": {},
   "cell_type": "markdown",
   "metadata": {},
   "source": [
    "### Parent Product Analysis"
   ]
  },
  {
   "attachments": {},
   "cell_type": "markdown",
   "metadata": {},
   "source": [
    "First, we want to see the most-reviewed commodities and those that have been reviewed only once. We pick the first couple of the head and tail using `value_counts()` function."
   ]
  },
  {
   "cell_type": "code",
   "execution_count": 6,
   "metadata": {},
   "outputs": [
    {
     "data": {
      "text/html": [
       "<div>\n",
       "<style scoped>\n",
       "    .dataframe tbody tr th:only-of-type {\n",
       "        vertical-align: middle;\n",
       "    }\n",
       "\n",
       "    .dataframe tbody tr th {\n",
       "        vertical-align: top;\n",
       "    }\n",
       "\n",
       "    .dataframe thead th {\n",
       "        text-align: right;\n",
       "    }\n",
       "</style>\n",
       "<table border=\"1\" class=\"dataframe\">\n",
       "  <thead>\n",
       "    <tr style=\"text-align: right;\">\n",
       "      <th></th>\n",
       "      <th>product_title</th>\n",
       "    </tr>\n",
       "  </thead>\n",
       "  <tbody>\n",
       "    <tr>\n",
       "      <th>SE JT6216 21-Piece Watch Repair Kit</th>\n",
       "      <td>4390</td>\n",
       "    </tr>\n",
       "    <tr>\n",
       "      <th>Timex Unisex Weekender Analog Quartz Watch</th>\n",
       "      <td>3222</td>\n",
       "    </tr>\n",
       "    <tr>\n",
       "      <th>Bling Jewelry Plated Classic Round CZ Ladies Watch</th>\n",
       "      <td>3046</td>\n",
       "    </tr>\n",
       "    <tr>\n",
       "      <th>Casio Men's Sport Analog Dive Watch</th>\n",
       "      <td>2047</td>\n",
       "    </tr>\n",
       "    <tr>\n",
       "      <th>Casio Women's LRW-200H-2BVCF Stainless Steel Watch Resin Band</th>\n",
       "      <td>2008</td>\n",
       "    </tr>\n",
       "  </tbody>\n",
       "</table>\n",
       "</div>"
      ],
      "text/plain": [
       "                                                    product_title\n",
       "SE JT6216 21-Piece Watch Repair Kit                          4390\n",
       "Timex Unisex Weekender Analog Quartz Watch                   3222\n",
       "Bling Jewelry Plated Classic Round CZ Ladies Watch           3046\n",
       "Casio Men's Sport Analog Dive Watch                          2047\n",
       "Casio Women's LRW-200H-2BVCF Stainless Steel Wa...           2008"
      ]
     },
     "execution_count": 6,
     "metadata": {},
     "output_type": "execute_result"
    },
    {
     "data": {
      "text/html": [
       "<div>\n",
       "<style scoped>\n",
       "    .dataframe tbody tr th:only-of-type {\n",
       "        vertical-align: middle;\n",
       "    }\n",
       "\n",
       "    .dataframe tbody tr th {\n",
       "        vertical-align: top;\n",
       "    }\n",
       "\n",
       "    .dataframe thead th {\n",
       "        text-align: right;\n",
       "    }\n",
       "</style>\n",
       "<table border=\"1\" class=\"dataframe\">\n",
       "  <thead>\n",
       "    <tr style=\"text-align: right;\">\n",
       "      <th></th>\n",
       "      <th>product_title</th>\n",
       "    </tr>\n",
       "  </thead>\n",
       "  <tbody>\n",
       "    <tr>\n",
       "      <th>PUMA Unisex PU910501003 Cardiac II Red Heart Rate Monitor Watch</th>\n",
       "      <td>1</td>\n",
       "    </tr>\n",
       "    <tr>\n",
       "      <th>GUESS Women's U0226L1 Alluring Rose-Print Watch</th>\n",
       "      <td>1</td>\n",
       "    </tr>\n",
       "    <tr>\n",
       "      <th>TKO ORLOGI Women's TK549-BBL Unisex Milano Remixed Blue Watch</th>\n",
       "      <td>1</td>\n",
       "    </tr>\n",
       "    <tr>\n",
       "      <th>Invicta Women's 80202 Pro Diver Mother-Of-Pearl Dial Gunmetal Ion-Plated Mesh Stainless Steel Watch</th>\n",
       "      <td>1</td>\n",
       "    </tr>\n",
       "    <tr>\n",
       "      <th>Extra Thick Padded Watch Band Genuine Leather Dark Brown 22 millimeters Tech Swiss</th>\n",
       "      <td>1</td>\n",
       "    </tr>\n",
       "  </tbody>\n",
       "</table>\n",
       "</div>"
      ],
      "text/plain": [
       "                                                    product_title\n",
       "PUMA Unisex PU910501003 Cardiac II Red Heart Ra...              1\n",
       "GUESS Women's U0226L1 Alluring Rose-Print Watch                 1\n",
       "TKO ORLOGI Women's TK549-BBL Unisex Milano Remi...              1\n",
       "Invicta Women's 80202 Pro Diver Mother-Of-Pearl...              1\n",
       "Extra Thick Padded Watch Band Genuine Leather D...              1"
      ]
     },
     "execution_count": 6,
     "metadata": {},
     "output_type": "execute_result"
    }
   ],
   "source": [
    "reviews.product_title.value_counts().to_frame().head(5)\n",
    "reviews.product_title.value_counts().to_frame().tail(5)"
   ]
  },
  {
   "attachments": {},
   "cell_type": "markdown",
   "metadata": {},
   "source": [
    "Next we want to explore the `product_parent` tag. The AWS just specifies it as \"random identifier that can be used to aggregate reviews for the same product\", which I view as ambiguous. I would expect that the \"parent\" would be the main product in an Amazon listing, and child products are those of different sizes, colors, editions, etc. I'm going to do some research and see whether my assumption holds."
   ]
  },
  {
   "cell_type": "code",
   "execution_count": 7,
   "metadata": {},
   "outputs": [
    {
     "data": {
      "text/plain": [
       "315669547    48\n",
       "297568235    48\n",
       "324241921    37\n",
       "802598355    35\n",
       "995353619    31\n",
       "Name: product_parent, dtype: int64"
      ]
     },
     "execution_count": 7,
     "metadata": {},
     "output_type": "execute_result"
    }
   ],
   "source": [
    "remove = reviews[['product_parent', 'product_id']].drop_duplicates()\n",
    "remove.product_parent.value_counts().head(5)"
   ]
  },
  {
   "cell_type": "code",
   "execution_count": 8,
   "metadata": {},
   "outputs": [
    {
     "data": {
      "text/html": [
       "<div>\n",
       "<style scoped>\n",
       "    .dataframe tbody tr th:only-of-type {\n",
       "        vertical-align: middle;\n",
       "    }\n",
       "\n",
       "    .dataframe tbody tr th {\n",
       "        vertical-align: top;\n",
       "    }\n",
       "\n",
       "    .dataframe thead th {\n",
       "        text-align: right;\n",
       "    }\n",
       "</style>\n",
       "<table border=\"1\" class=\"dataframe\">\n",
       "  <thead>\n",
       "    <tr style=\"text-align: right;\">\n",
       "      <th></th>\n",
       "      <th>product_parent</th>\n",
       "      <th>product_id</th>\n",
       "      <th>product_title</th>\n",
       "    </tr>\n",
       "  </thead>\n",
       "  <tbody>\n",
       "    <tr>\n",
       "      <th>502758</th>\n",
       "      <td>315669547</td>\n",
       "      <td>B00IE9H9RG</td>\n",
       "      <td>Interchangeable Military-style Nylon Watch Str...</td>\n",
       "    </tr>\n",
       "    <tr>\n",
       "      <th>505779</th>\n",
       "      <td>315669547</td>\n",
       "      <td>B00I8UJ3RK</td>\n",
       "      <td>Interchangeable Military-style Nylon Watch Str...</td>\n",
       "    </tr>\n",
       "    <tr>\n",
       "      <th>219237</th>\n",
       "      <td>315669547</td>\n",
       "      <td>B00I812VXC</td>\n",
       "      <td>Interchangeable Military-style Nylon Watch Str...</td>\n",
       "    </tr>\n",
       "    <tr>\n",
       "      <th>204222</th>\n",
       "      <td>315669547</td>\n",
       "      <td>B00I5RW8K0</td>\n",
       "      <td>Interchangeable Military-style Nylon Watch Str...</td>\n",
       "    </tr>\n",
       "    <tr>\n",
       "      <th>87673</th>\n",
       "      <td>315669547</td>\n",
       "      <td>B00I8UJ4GU</td>\n",
       "      <td>Interchangeable Military-style Nylon Watch Str...</td>\n",
       "    </tr>\n",
       "  </tbody>\n",
       "</table>\n",
       "</div>"
      ],
      "text/plain": [
       "        product_parent  product_id  \\\n",
       "502758       315669547  B00IE9H9RG   \n",
       "505779       315669547  B00I8UJ3RK   \n",
       "219237       315669547  B00I812VXC   \n",
       "204222       315669547  B00I5RW8K0   \n",
       "87673        315669547  B00I8UJ4GU   \n",
       "\n",
       "                                            product_title  \n",
       "502758  Interchangeable Military-style Nylon Watch Str...  \n",
       "505779  Interchangeable Military-style Nylon Watch Str...  \n",
       "219237  Interchangeable Military-style Nylon Watch Str...  \n",
       "204222  Interchangeable Military-style Nylon Watch Str...  \n",
       "87673   Interchangeable Military-style Nylon Watch Str...  "
      ]
     },
     "execution_count": 8,
     "metadata": {},
     "output_type": "execute_result"
    }
   ],
   "source": [
    "parent_id = 315669547\n",
    "reviews[reviews.product_parent == parent_id][['product_parent', 'product_id', 'product_title']].drop_duplicates().head()"
   ]
  },
  {
   "cell_type": "code",
   "execution_count": 10,
   "metadata": {},
   "outputs": [
    {
     "data": {
      "text/html": [
       "<div>\n",
       "<style scoped>\n",
       "    .dataframe tbody tr th:only-of-type {\n",
       "        vertical-align: middle;\n",
       "    }\n",
       "\n",
       "    .dataframe tbody tr th {\n",
       "        vertical-align: top;\n",
       "    }\n",
       "\n",
       "    .dataframe thead th {\n",
       "        text-align: right;\n",
       "    }\n",
       "</style>\n",
       "<table border=\"1\" class=\"dataframe\">\n",
       "  <thead>\n",
       "    <tr style=\"text-align: right;\">\n",
       "      <th></th>\n",
       "      <th>product_title</th>\n",
       "    </tr>\n",
       "  </thead>\n",
       "  <tbody>\n",
       "    <tr>\n",
       "      <th>502758</th>\n",
       "      <td>Interchangeable Military-style Nylon Watch Str...</td>\n",
       "    </tr>\n",
       "  </tbody>\n",
       "</table>\n",
       "</div>"
      ],
      "text/plain": [
       "                                            product_title\n",
       "502758  Interchangeable Military-style Nylon Watch Str..."
      ]
     },
     "execution_count": 10,
     "metadata": {},
     "output_type": "execute_result"
    }
   ],
   "source": [
    "reviews[reviews.product_parent == parent_id][['product_title']].drop_duplicates()"
   ]
  },
  {
   "attachments": {},
   "cell_type": "markdown",
   "metadata": {},
   "source": [
    "From the above result we could see that `product_parent` distinguishes between different products since the `product_id`  tags are different. However, all of these products share the same value for `product_title`, which proves that our assumption was indeed correct.\n",
    "\n",
    "This could cause a problem for our future research, as a user theoretically could be recommended with three products with unique `product_id`, but they're really all the same product, except probably different colors. If I want to recommend three various commodities, the result might not be ideal. In other words, the `product_id` is not a proper label for one certain commodity.\n",
    "\n",
    "What I'm going to do is to modify the data in the `reviews` to make sure that there is only one `product_id` per `product_title`."
   ]
  },
  {
   "cell_type": "code",
   "execution_count": 11,
   "metadata": {},
   "outputs": [
    {
     "data": {
      "text/plain": [
       "Tommy Hilfiger Men's 1790926 Stainless Steel and Grosgrain Leather Strap Sport Watch                            1\n",
       "Tissot PRC 200 Silver Chronograph Quartz Sport Men's watch #T055.417.11.037.00                                  1\n",
       "Breda Men's 2369-setB \"James\" Pilot-Style faux leather Watch Set with Two Interchangeable faux leather Bands    1\n",
       "Timex Classics Bracelet Silver-Tone Dial Women's Watch #T2N838                                                  1\n",
       "Invicta Women's 12503 Pro Diver Silver Dial Watch                                                               1\n",
       "Name: product_title, dtype: int64"
      ]
     },
     "execution_count": 11,
     "metadata": {},
     "output_type": "execute_result"
    }
   ],
   "source": [
    "products = reviews[['product_id', 'product_title']].drop_duplicates(subset='product_title', keep='first')\n",
    "cols = reviews.columns\n",
    "reviews = reviews.drop('product_id', axis=1).merge(products, on='product_title')[cols]\n",
    "\n",
    "reviews[['product_id', 'product_title']].drop_duplicates().product_title.value_counts().head(5)"
   ]
  },
  {
   "attachments": {},
   "cell_type": "markdown",
   "metadata": {},
   "source": [
    "Now the preliminary part has been done. We then check whether there are still multiple `product_id` values for one `product_parent` value."
   ]
  },
  {
   "cell_type": "code",
   "execution_count": 16,
   "metadata": {},
   "outputs": [
    {
     "data": {
      "text/plain": [
       "544812143    23\n",
       "86574288      9\n",
       "193303569     9\n",
       "286396053     7\n",
       "459113922     7\n",
       "Name: product_parent, dtype: int64"
      ]
     },
     "execution_count": 16,
     "metadata": {},
     "output_type": "execute_result"
    }
   ],
   "source": [
    "extracted = reviews[['product_parent', 'product_id']].drop_duplicates()\n",
    "extracted.product_parent.value_counts().head(5)"
   ]
  },
  {
   "cell_type": "code",
   "execution_count": 17,
   "metadata": {},
   "outputs": [
    {
     "data": {
      "text/html": [
       "<div>\n",
       "<style scoped>\n",
       "    .dataframe tbody tr th:only-of-type {\n",
       "        vertical-align: middle;\n",
       "    }\n",
       "\n",
       "    .dataframe tbody tr th {\n",
       "        vertical-align: top;\n",
       "    }\n",
       "\n",
       "    .dataframe thead th {\n",
       "        text-align: right;\n",
       "    }\n",
       "</style>\n",
       "<table border=\"1\" class=\"dataframe\">\n",
       "  <thead>\n",
       "    <tr style=\"text-align: right;\">\n",
       "      <th></th>\n",
       "      <th>product_title</th>\n",
       "    </tr>\n",
       "  </thead>\n",
       "  <tbody>\n",
       "    <tr>\n",
       "      <th>675555</th>\n",
       "      <td>Game Time Men's NFL Retro Series Watch - New O...</td>\n",
       "    </tr>\n",
       "    <tr>\n",
       "      <th>685904</th>\n",
       "      <td>Game Time Men's NFL Retro Series Watch - New E...</td>\n",
       "    </tr>\n",
       "    <tr>\n",
       "      <th>736537</th>\n",
       "      <td>Game Time Retro - NFL</td>\n",
       "    </tr>\n",
       "    <tr>\n",
       "      <th>796196</th>\n",
       "      <td>Game Time Men's NFL Retro Series Watch - Green...</td>\n",
       "    </tr>\n",
       "    <tr>\n",
       "      <th>799055</th>\n",
       "      <td>Game Time Men's NFL Retro Series Watch</td>\n",
       "    </tr>\n",
       "  </tbody>\n",
       "</table>\n",
       "</div>"
      ],
      "text/plain": [
       "                                            product_title\n",
       "675555  Game Time Men's NFL Retro Series Watch - New O...\n",
       "685904  Game Time Men's NFL Retro Series Watch - New E...\n",
       "736537                              Game Time Retro - NFL\n",
       "796196  Game Time Men's NFL Retro Series Watch - Green...\n",
       "799055             Game Time Men's NFL Retro Series Watch"
      ]
     },
     "execution_count": 17,
     "metadata": {},
     "output_type": "execute_result"
    }
   ],
   "source": [
    "idx = 544812143\n",
    "reviews[reviews.product_parent == idx][['product_title']].drop_duplicates().head()"
   ]
  },
  {
   "attachments": {},
   "cell_type": "markdown",
   "metadata": {},
   "source": [
    "We did some exploration to dig into these products with different `product_title`, and found that these watches are simply different products, with the difference more than just color and size. For instance, the above listed five products are watches in collaboration with different NFL teams. We definitely should view these as different products. Hence, our purpose has been reached."
   ]
  },
  {
   "cell_type": "code",
   "execution_count": 18,
   "metadata": {},
   "outputs": [],
   "source": [
    "reviews.to_csv('preprocessed.csv')"
   ]
  }
 ],
 "metadata": {
  "kernelspec": {
   "display_name": "base",
   "language": "python",
   "name": "python3"
  },
  "language_info": {
   "codemirror_mode": {
    "name": "ipython",
    "version": 3
   },
   "file_extension": ".py",
   "mimetype": "text/x-python",
   "name": "python",
   "nbconvert_exporter": "python",
   "pygments_lexer": "ipython3",
   "version": "3.9.12"
  },
  "orig_nbformat": 4
 },
 "nbformat": 4,
 "nbformat_minor": 2
}
